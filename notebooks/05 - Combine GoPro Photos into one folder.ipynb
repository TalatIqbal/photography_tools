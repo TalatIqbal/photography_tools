{
 "cells": [
  {
   "cell_type": "code",
   "execution_count": null,
   "metadata": {},
   "outputs": [],
   "source": [
    "import datetime\n",
    "import traceback\n",
    "from shutil import copyfile\n",
    "import os, numpy, PIL\n",
    "from PIL import Image"
   ]
  },
  {
   "cell_type": "code",
   "execution_count": null,
   "metadata": {},
   "outputs": [],
   "source": [
    "import warnings\n",
    "warnings.filterwarnings(\"ignore\")"
   ]
  },
  {
   "cell_type": "code",
   "execution_count": null,
   "metadata": {},
   "outputs": [],
   "source": [
    "def get_date_taken(img_path):\n",
    "\n",
    "    datetime_str = Image.open(img_path)._getexif()[36867]\n",
    "    datetime_obj = datetime.datetime.strptime(datetime_str, '%Y:%m:%d %H:%M:%S')\n",
    "\n",
    "    return datetime_obj"
   ]
  },
  {
   "cell_type": "code",
   "execution_count": null,
   "metadata": {},
   "outputs": [],
   "source": [
    "def date_to_filename(ip_date):\n",
    "    \n",
    "    year = str(ip_date.year)\n",
    "    \n",
    "    month = ip_date.month\n",
    "    \n",
    "    if month < 10:\n",
    "        month = '0' + str(month)\n",
    "    else:\n",
    "        month = str(month)\n",
    "\n",
    "    day = ip_date.day\n",
    "    if day < 10:\n",
    "        day = '0' + str(day)\n",
    "    else:\n",
    "        day = str(day)\n",
    "\n",
    "    \n",
    "    hour = ip_date.hour\n",
    "    if hour < 10:\n",
    "        hour = '0' + str(hour)\n",
    "    else:\n",
    "        hour = str(hour)\n",
    "        \n",
    "    minute = ip_date.minute\n",
    "    if minute < 10:\n",
    "        minute = '0' + str(minute)\n",
    "    else:\n",
    "        minute = str(minute)\n",
    "        \n",
    "    second = ip_date.second\n",
    "    if second < 10:\n",
    "        second = '0' + str(second)\n",
    "    else:\n",
    "        second = str(second)\n",
    "        \n",
    "    \n",
    "    op_fname = 'IMG_'+year+month+day+'_'+hour+minute+second\n",
    "    \n",
    "    return op_fname"
   ]
  },
  {
   "cell_type": "markdown",
   "metadata": {},
   "source": [
    "## Copying files Go Pro"
   ]
  },
  {
   "cell_type": "code",
   "execution_count": null,
   "metadata": {},
   "outputs": [],
   "source": [
    "INPUT_DIR = '/Volumes/Mac Hawaii/Photos/Go Pro Timelapse - Part 2/'\n",
    "OUTPUT_DIR = '/Volumes/PhotosAug20/Photos/GoPro/GoProSingleTL/'\n",
    "\n",
    "sub_dir_list = [f for f in os.listdir(INPUT_DIR) if os.path.isdir(os.path.join(INPUT_DIR,f))]\n",
    "sub_dir_list.sort()\n",
    "\n",
    "print('Number of sub-directories found: '+str(len(sub_dir_list)))\n",
    "count = 1\n",
    "\n",
    "if not os.path.exists(OUTPUT_DIR):\n",
    "    os.makedirs(OUTPUT_DIR)\n",
    "\n",
    "for sub_dir in sub_dir_list:\n",
    "    \n",
    "    try:\n",
    "        ip_dir = os.path.join(INPUT_DIR, sub_dir)\n",
    "        op_dir = OUTPUT_DIR\n",
    "\n",
    "        print('['+str(count)+'/'+str(len(sub_dir_list))+'] '+sub_dir, end='\\n')\n",
    "\n",
    "        images = [img for img in os.listdir(ip_dir) if img.lower().endswith('.jpg')]\n",
    "        modified_dates = []\n",
    "\n",
    "        image_count = 1\n",
    "        for image in images:\n",
    "            \n",
    "            try:\n",
    "                image = os.path.join(ip_dir, image)\n",
    "                mod_date = get_date_taken(image)\n",
    "                op_fname = date_to_filename(mod_date)\n",
    "\n",
    "                op_filepath = os.path.join(op_dir, op_fname+'.jpg')\n",
    "                if os.path.exists(op_filepath):\n",
    "                    op_fname += '_'+str(mod_date.microsecond)\n",
    "                    op_filepath = os.path.join(op_dir, op_fname+'.jpg')\n",
    "\n",
    "                # print(image, op_filepath)\n",
    "                copyfile(image, op_filepath)\n",
    "                print('Images ('+str(image_count)+'/'+str(len(images))+')', end='\\r')\n",
    "                image_count += 1\n",
    "            except:\n",
    "                print('EXCEPTION: having issues with the image file: '+image)\n",
    "                traceback.print_exc()\n",
    "                continue\n",
    "    except:\n",
    "        print('EXCEPTION: having issues with the directory: '+sub_dir)\n",
    "        traceback.print_exc()\n",
    "        continue\n",
    "    \n",
    "    count += 1"
   ]
  },
  {
   "cell_type": "code",
   "execution_count": null,
   "metadata": {},
   "outputs": [],
   "source": []
  }
 ],
 "metadata": {
  "kernelspec": {
   "display_name": "long_exposures",
   "language": "python",
   "name": "long_exposures"
  },
  "language_info": {
   "codemirror_mode": {
    "name": "ipython",
    "version": 3
   },
   "file_extension": ".py",
   "mimetype": "text/x-python",
   "name": "python",
   "nbconvert_exporter": "python",
   "pygments_lexer": "ipython3",
   "version": "3.5.5"
  }
 },
 "nbformat": 4,
 "nbformat_minor": 4
}
