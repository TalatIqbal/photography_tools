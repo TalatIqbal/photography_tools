{
 "cells": [
  {
   "cell_type": "code",
   "execution_count": 3,
   "id": "internal-claim",
   "metadata": {},
   "outputs": [],
   "source": [
    "import os, numpy, PIL\n",
    "from PIL import Image\n",
    "import datetime\n",
    "import time\n",
    "import cv2\n",
    "import os\n",
    "import traceback\n",
    "import pandas as pd"
   ]
  },
  {
   "cell_type": "code",
   "execution_count": 4,
   "id": "mighty-passport",
   "metadata": {},
   "outputs": [],
   "source": [
    "def video_to_images(ip_file, op_dir, print_str, ext='.jpg'):\n",
    "    vidcap = cv2.VideoCapture(ip_file)\n",
    "    success,image = vidcap.read()\n",
    "    count = 0\n",
    "    while success:\n",
    "        op_file = os.path.join(op_dir, 'frame_'+str(count)+ext)\n",
    "        cv2.imwrite(op_file, image)     # save frame as JPEG file      \n",
    "        success,image = vidcap.read()\n",
    "        print(print_str, 'Frame: ', count, end=\"\\r\")\n",
    "        count += 1"
   ]
  },
  {
   "cell_type": "code",
   "execution_count": 8,
   "id": "christian-archive",
   "metadata": {},
   "outputs": [
    {
     "name": "stdout",
     "output_type": "stream",
     "text": [
      "Number of video files found: 11\n",
      "Frames segmented in  0:00:00.287310 seconds\n",
      "Frames segmented in  0:00:00.005436 seconds\n",
      "Frames segmented in  0:00:00.039124 seconds\n",
      "Frames segmented in  0:00:00.196092 seconds\n",
      "Frames segmented in  0:00:00.031561 seconds\n",
      "Frames segmented in  0:02:55.730752 seconds409\n",
      "Frames segmented in  0:03:19.449245 seconds 829Frame:  2881\n",
      "Frames segmented in  0:12:22.662540 seconds317043Frame:  82268425Frame:  9511\n",
      "Frames segmented in  0:05:16.783775 seconds\n",
      "Frames segmented in  0:00:44.932560 seconds\n",
      "Frames segmented in  0:05:09.530830 seconds  1917\n"
     ]
    }
   ],
   "source": [
    "INPUT_DIR = '/Volumes/TOSHIBA/Photos/_Videos/'\n",
    "OUTPUT_DIR = '/Volumes/TOSHIBA/Photos/TLVideo_Frames/'\n",
    "\n",
    "ext = '.jpg'\n",
    "\n",
    "# Create output directories\n",
    "if not os.path.exists(OUTPUT_DIR):\n",
    "    os.makedirs(OUTPUT_DIR)\n",
    "\n",
    "sub_file_list = [f for f in os.listdir(INPUT_DIR) if (os.path.isfile(os.path.join(INPUT_DIR,f))) and (f.lower().endswith('.mov'))]\n",
    "sub_file_list.sort()\n",
    "\n",
    "print('Number of video files found: '+str(len(sub_file_list)))\n",
    "count = 1\n",
    "\n",
    "for sub_file in sub_file_list:\n",
    "    \n",
    "    try:\n",
    "        tic = datetime.datetime.now()\n",
    "        \n",
    "        ip_file = os.path.join(INPUT_DIR, sub_file)\n",
    "        op_sub_dir = os.path.join(OUTPUT_DIR, os.path.splitext(sub_file)[0])\n",
    "        \n",
    "        if not os.path.exists(op_sub_dir):\n",
    "            os.makedirs(op_sub_dir)\n",
    "\n",
    "        print_str = '['+str(count)+'/'+str(len(sub_file_list))+'] '+sub_file+':'\n",
    "\n",
    "        video_to_images(ip_file=ip_file, op_dir=op_sub_dir, print_str=print_str, ext=ext)\n",
    "        print('Frames segmented in ', str(datetime.datetime.now()-tic), 'seconds')\n",
    "    except:\n",
    "        print('EXCEPTION: having issues with the file: '+sub_file)\n",
    "        traceback.print_exc()\n",
    "        continue\n",
    "    \n",
    "\n",
    "    count += 1"
   ]
  },
  {
   "cell_type": "code",
   "execution_count": null,
   "id": "frequent-canberra",
   "metadata": {},
   "outputs": [],
   "source": []
  }
 ],
 "metadata": {
  "kernelspec": {
   "display_name": "photography",
   "language": "python",
   "name": "photography"
  },
  "language_info": {
   "codemirror_mode": {
    "name": "ipython",
    "version": 3
   },
   "file_extension": ".py",
   "mimetype": "text/x-python",
   "name": "python",
   "nbconvert_exporter": "python",
   "pygments_lexer": "ipython3",
   "version": "3.5.5"
  }
 },
 "nbformat": 4,
 "nbformat_minor": 5
}
