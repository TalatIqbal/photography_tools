{
 "cells": [
  {
   "cell_type": "code",
   "execution_count": 30,
   "metadata": {},
   "outputs": [],
   "source": [
    "import os, numpy, PIL\n",
    "from PIL import Image\n",
    "import datetime\n",
    "import time"
   ]
  },
  {
   "cell_type": "code",
   "execution_count": 101,
   "metadata": {},
   "outputs": [],
   "source": [
    "import warnings\n",
    "warnings.filterwarnings(\"ignore\")"
   ]
  },
  {
   "cell_type": "code",
   "execution_count": 108,
   "metadata": {},
   "outputs": [],
   "source": [
    "def create_longexposures(ip_dir, op_dir, num_pics):\n",
    "    \n",
    "    # Create output directories\n",
    "    if not os.path.exists(op_dir):\n",
    "        os.makedirs(op_dir)\n",
    "    \n",
    "    # Access all image files with .jpg extension in the input directory\n",
    "    image_list=[os.path.join(ip_dir,f) for f in os.listdir(ip_dir) if  f.endswith('.jpg')]\n",
    "    image_list.sort()\n",
    "\n",
    "    # Assuming all images are the same size, get dimensions of first image\n",
    "    w,h=Image.open(image_list[0]).size\n",
    "    image_list_len=len(image_list)\n",
    "\n",
    "    print('Images in', ip_dir, '=', N)\n",
    "    print('Image dimensions', w, 'x', h)\n",
    "    \n",
    "    # Build up average pixel intensities, casting each image as an array of floats\n",
    "    count = 0\n",
    "    # Create a numpy array of floats to store the average (assume RGB images)\n",
    "    arr=numpy.zeros((h,w,3),numpy.float)\n",
    "    \n",
    "    num_pics_for_current_set = num_pics\n",
    "    \n",
    "    \n",
    "    temp_start = count\n",
    "\n",
    "    for image in image_list:\n",
    "\n",
    "        # Take the mean of all the image\n",
    "        image_arr=numpy.array(Image.open(image),dtype=numpy.float)\n",
    "        count += 1\n",
    "            \n",
    "        arr=arr+image_arr/num_pics_for_current_set\n",
    "\n",
    "        if ((count%num_pics == 0) or (count == image_list_len)):\n",
    "\n",
    "            # Generate the file name\n",
    "            now = datetime.datetime.now()\n",
    "            op_file = str(now.year) + '_' + str(now.month) + '_' + str(now.day) + \\\n",
    "                        '_' + str(now.hour) + '_' + str(now.minute) + '_' + str(now.second) + \\\n",
    "                        '_' + str(count) + '_mean.jpg'\n",
    "            op_file = os.path.join(op_dir, op_file)\n",
    "\n",
    "            # Round values in array and cast as 8-bit integer\n",
    "            arr=numpy.array(numpy.round(arr),dtype=numpy.uint8)\n",
    "\n",
    "            # Generate, save and preview final image\n",
    "            out=Image.fromarray(arr,mode=\"RGB\")\n",
    "            out.save(op_file, format = 'JPEG', quality = 100,\n",
    "                     icc_profile = Image.open(image).info.get('icc_profile',''))\n",
    "\n",
    "            print('Image saved to ' + op_file, '\\tS=', temp_start+1, count ,end='\\r')\n",
    "\n",
    "            # Reinitiate the new numpy array to store the average\n",
    "            arr=numpy.zeros((h,w,3),numpy.float)\n",
    "            \n",
    "            if (image_list_len-count < num_pics):\n",
    "                num_pics_for_current_set = image_list_len-count\n",
    "            \n",
    "            temp_start = count\n",
    "\n",
    "            time.sleep(1)"
   ]
  },
  {
   "cell_type": "code",
   "execution_count": 109,
   "metadata": {},
   "outputs": [
    {
     "name": "stdout",
     "output_type": "stream",
     "text": [
      "Images in /Users/talat/Pictures/_Photos/Edited/2020-05-11 - YEG Balcony Garden Batman 2 6D (TL) E DD = 10\n",
      "Image dimensions 5186 x 3238\n",
      "Image saved to /Users/talat/Pictures/_Photos/Long Exposures/2020-05-11 - YEG Balcony Garden Batman 2 6D (TL) E DD/2020_5_13_14_51_59_1173_mean.jpg \tS= 1171 1173\r"
     ]
    }
   ],
   "source": [
    "# INPUT_DIR = '../data/input/'\n",
    "INPUT_DIR = '/Users/talat/Pictures/_Photos/Edited/'\n",
    "OUTPUT_DIR = '/Users/talat/Pictures/_Photos/Long Exposures/'\n",
    "# sub_dir = 'turtle'\n",
    "sub_dir = '2020-05-11 - YEG Balcony Garden Batman 2 6D (TL) E DD'\n",
    "\n",
    "ip_dir = os.path.join(INPUT_DIR, sub_dir)\n",
    "op_dir = os.path.join(OUTPUT_DIR, sub_dir)\n",
    "num_pics = 10\n",
    "\n",
    "create_longexposures(ip_dir, op_dir, num_pics)"
   ]
  },
  {
   "cell_type": "code",
   "execution_count": 110,
   "metadata": {},
   "outputs": [
    {
     "name": "stdout",
     "output_type": "stream",
     "text": [
      "/Users/talat/Pictures/_Photos/Edited/2020-05-11 - YEG Balcony Night (TL) E /Users/talat/Pictures/_Photos/Long Exposures/2020-05-11 - YEG Balcony Night (TL) E 10\n",
      "Images in /Users/talat/Pictures/_Photos/Edited/2020-05-11 - YEG Balcony Night (TL) E = 10\n",
      "Image dimensions 6000 x 4000\n",
      "/Users/talat/Pictures/_Photos/Edited/2020-05-11 - YEG Balcony Garden TomJerry 1 T6i (TL) E /Users/talat/Pictures/_Photos/Long Exposures/2020-05-11 - YEG Balcony Garden TomJerry 1 T6i (TL) E 10\n",
      "Images in /Users/talat/Pictures/_Photos/Edited/2020-05-11 - YEG Balcony Garden TomJerry 1 T6i (TL) E = 10\n",
      "Image dimensions 5778 x 3852\n",
      "/Users/talat/Pictures/_Photos/Edited/2020-05-11 - YEG Balcony Garden Batman 6D (TL) E /Users/talat/Pictures/_Photos/Long Exposures/2020-05-11 - YEG Balcony Garden Batman 6D (TL) E 10\n",
      "Images in /Users/talat/Pictures/_Photos/Edited/2020-05-11 - YEG Balcony Garden Batman 6D (TL) E = 10\n",
      "Image dimensions 4654 x 3220\n",
      "/Users/talat/Pictures/_Photos/Edited/2020-05-11 - YEG Balcony Garden Batman 2 T6i (TL) E /Users/talat/Pictures/_Photos/Long Exposures/2020-05-11 - YEG Balcony Garden Batman 2 T6i (TL) E 10\n",
      "Images in /Users/talat/Pictures/_Photos/Edited/2020-05-11 - YEG Balcony Garden Batman 2 T6i (TL) E = 10\n",
      "Image dimensions 5778 x 3852\n",
      "/Users/talat/Pictures/_Photos/Edited/2020-05-11 - YEG Balcony Garden Batman 1 T6i (TL) E /Users/talat/Pictures/_Photos/Long Exposures/2020-05-11 - YEG Balcony Garden Batman 1 T6i (TL) E 10\n",
      "Images in /Users/talat/Pictures/_Photos/Edited/2020-05-11 - YEG Balcony Garden Batman 1 T6i (TL) E = 10\n",
      "Image dimensions 5778 x 3852\n",
      "/Users/talat/Pictures/_Photos/Edited/2020-05-11 - YEG Balcony Garden Batman 1 6D (TL) E /Users/talat/Pictures/_Photos/Long Exposures/2020-05-11 - YEG Balcony Garden Batman 1 6D (TL) E 10\n",
      "Images in /Users/talat/Pictures/_Photos/Edited/2020-05-11 - YEG Balcony Garden Batman 1 6D (TL) E = 10\n",
      "Image dimensions 4654 x 3220\n",
      "/Users/talat/Pictures/_Photos/Edited/2020-05-11 - YEG Balcony Garden (TL) E /Users/talat/Pictures/_Photos/Long Exposures/2020-05-11 - YEG Balcony Garden (TL) E 10\n",
      "Images in /Users/talat/Pictures/_Photos/Edited/2020-05-11 - YEG Balcony Garden (TL) E = 10\n",
      "Image dimensions 5901 x 3934\n",
      "/Users/talat/Pictures/_Photos/Edited/2020-05-11 - YEG Balcony (TL) E /Users/talat/Pictures/_Photos/Long Exposures/2020-05-11 - YEG Balcony (TL) E 10\n",
      "Images in /Users/talat/Pictures/_Photos/Edited/2020-05-11 - YEG Balcony (TL) E = 10\n",
      "Image dimensions 6000 x 4000\n",
      "Image saved to /Users/talat/Pictures/_Photos/Long Exposures/2020-05-11 - YEG Balcony (TL) E/2020_5_13_16_50_6_290_mean.jpg \tS= 281 2900\r"
     ]
    },
    {
     "ename": "OSError",
     "evalue": "[Errno 28] No space left on device",
     "output_type": "error",
     "traceback": [
      "\u001b[0;31m---------------------------------------------------------------------------\u001b[0m",
      "\u001b[0;31mOSError\u001b[0m                                   Traceback (most recent call last)",
      "\u001b[0;32m<ipython-input-110-5cc076794d64>\u001b[0m in \u001b[0;36m<module>\u001b[0;34m\u001b[0m\n\u001b[1;32m     18\u001b[0m     \u001b[0mprint\u001b[0m\u001b[0;34m(\u001b[0m\u001b[0mip_dir\u001b[0m\u001b[0;34m,\u001b[0m \u001b[0mop_dir\u001b[0m\u001b[0;34m,\u001b[0m \u001b[0mnum_pics\u001b[0m\u001b[0;34m)\u001b[0m\u001b[0;34m\u001b[0m\u001b[0m\n\u001b[1;32m     19\u001b[0m \u001b[0;34m\u001b[0m\u001b[0m\n\u001b[0;32m---> 20\u001b[0;31m     \u001b[0mcreate_longexposures\u001b[0m\u001b[0;34m(\u001b[0m\u001b[0mip_dir\u001b[0m\u001b[0;34m,\u001b[0m \u001b[0mop_dir\u001b[0m\u001b[0;34m,\u001b[0m \u001b[0mnum_pics\u001b[0m\u001b[0;34m)\u001b[0m\u001b[0;34m\u001b[0m\u001b[0m\n\u001b[0m",
      "\u001b[0;32m<ipython-input-108-1d50befed704>\u001b[0m in \u001b[0;36mcreate_longexposures\u001b[0;34m(ip_dir, op_dir, num_pics)\u001b[0m\n\u001b[1;32m     49\u001b[0m             \u001b[0mout\u001b[0m\u001b[0;34m=\u001b[0m\u001b[0mImage\u001b[0m\u001b[0;34m.\u001b[0m\u001b[0mfromarray\u001b[0m\u001b[0;34m(\u001b[0m\u001b[0marr\u001b[0m\u001b[0;34m,\u001b[0m\u001b[0mmode\u001b[0m\u001b[0;34m=\u001b[0m\u001b[0;34m\"RGB\"\u001b[0m\u001b[0;34m)\u001b[0m\u001b[0;34m\u001b[0m\u001b[0m\n\u001b[1;32m     50\u001b[0m             out.save(op_file, format = 'JPEG', quality = 100,\n\u001b[0;32m---> 51\u001b[0;31m                      icc_profile = Image.open(image).info.get('icc_profile',''))\n\u001b[0m\u001b[1;32m     52\u001b[0m \u001b[0;34m\u001b[0m\u001b[0m\n\u001b[1;32m     53\u001b[0m             \u001b[0mprint\u001b[0m\u001b[0;34m(\u001b[0m\u001b[0;34m'Image saved to '\u001b[0m \u001b[0;34m+\u001b[0m \u001b[0mop_file\u001b[0m\u001b[0;34m,\u001b[0m \u001b[0;34m'\\tS='\u001b[0m\u001b[0;34m,\u001b[0m \u001b[0mtemp_start\u001b[0m\u001b[0;34m+\u001b[0m\u001b[0;36m1\u001b[0m\u001b[0;34m,\u001b[0m \u001b[0mcount\u001b[0m \u001b[0;34m,\u001b[0m\u001b[0mend\u001b[0m\u001b[0;34m=\u001b[0m\u001b[0;34m'\\r'\u001b[0m\u001b[0;34m)\u001b[0m\u001b[0;34m\u001b[0m\u001b[0m\n",
      "\u001b[0;32m~/anaconda3/envs/long_exposures/lib/python3.5/site-packages/PIL/Image.py\u001b[0m in \u001b[0;36msave\u001b[0;34m(self, fp, format, **params)\u001b[0m\n\u001b[1;32m   2132\u001b[0m \u001b[0;34m\u001b[0m\u001b[0m\n\u001b[1;32m   2133\u001b[0m         \u001b[0;32mtry\u001b[0m\u001b[0;34m:\u001b[0m\u001b[0;34m\u001b[0m\u001b[0m\n\u001b[0;32m-> 2134\u001b[0;31m             \u001b[0msave_handler\u001b[0m\u001b[0;34m(\u001b[0m\u001b[0mself\u001b[0m\u001b[0;34m,\u001b[0m \u001b[0mfp\u001b[0m\u001b[0;34m,\u001b[0m \u001b[0mfilename\u001b[0m\u001b[0;34m)\u001b[0m\u001b[0;34m\u001b[0m\u001b[0m\n\u001b[0m\u001b[1;32m   2135\u001b[0m         \u001b[0;32mfinally\u001b[0m\u001b[0;34m:\u001b[0m\u001b[0;34m\u001b[0m\u001b[0m\n\u001b[1;32m   2136\u001b[0m             \u001b[0;31m# do what we can to clean up\u001b[0m\u001b[0;34m\u001b[0m\u001b[0;34m\u001b[0m\u001b[0m\n",
      "\u001b[0;32m~/anaconda3/envs/long_exposures/lib/python3.5/site-packages/PIL/JpegImagePlugin.py\u001b[0m in \u001b[0;36m_save\u001b[0;34m(im, fp, filename)\u001b[0m\n\u001b[1;32m    761\u001b[0m     \u001b[0mbufsize\u001b[0m \u001b[0;34m=\u001b[0m \u001b[0mmax\u001b[0m\u001b[0;34m(\u001b[0m\u001b[0mImageFile\u001b[0m\u001b[0;34m.\u001b[0m\u001b[0mMAXBLOCK\u001b[0m\u001b[0;34m,\u001b[0m \u001b[0mbufsize\u001b[0m\u001b[0;34m,\u001b[0m \u001b[0mlen\u001b[0m\u001b[0;34m(\u001b[0m\u001b[0mexif\u001b[0m\u001b[0;34m)\u001b[0m \u001b[0;34m+\u001b[0m \u001b[0;36m5\u001b[0m\u001b[0;34m,\u001b[0m \u001b[0mlen\u001b[0m\u001b[0;34m(\u001b[0m\u001b[0mextra\u001b[0m\u001b[0;34m)\u001b[0m \u001b[0;34m+\u001b[0m \u001b[0;36m1\u001b[0m\u001b[0;34m)\u001b[0m\u001b[0;34m\u001b[0m\u001b[0m\n\u001b[1;32m    762\u001b[0m \u001b[0;34m\u001b[0m\u001b[0m\n\u001b[0;32m--> 763\u001b[0;31m     \u001b[0mImageFile\u001b[0m\u001b[0;34m.\u001b[0m\u001b[0m_save\u001b[0m\u001b[0;34m(\u001b[0m\u001b[0mim\u001b[0m\u001b[0;34m,\u001b[0m \u001b[0mfp\u001b[0m\u001b[0;34m,\u001b[0m \u001b[0;34m[\u001b[0m\u001b[0;34m(\u001b[0m\u001b[0;34m\"jpeg\"\u001b[0m\u001b[0;34m,\u001b[0m \u001b[0;34m(\u001b[0m\u001b[0;36m0\u001b[0m\u001b[0;34m,\u001b[0m \u001b[0;36m0\u001b[0m\u001b[0;34m)\u001b[0m \u001b[0;34m+\u001b[0m \u001b[0mim\u001b[0m\u001b[0;34m.\u001b[0m\u001b[0msize\u001b[0m\u001b[0;34m,\u001b[0m \u001b[0;36m0\u001b[0m\u001b[0;34m,\u001b[0m \u001b[0mrawmode\u001b[0m\u001b[0;34m)\u001b[0m\u001b[0;34m]\u001b[0m\u001b[0;34m,\u001b[0m \u001b[0mbufsize\u001b[0m\u001b[0;34m)\u001b[0m\u001b[0;34m\u001b[0m\u001b[0m\n\u001b[0m\u001b[1;32m    764\u001b[0m \u001b[0;34m\u001b[0m\u001b[0m\n\u001b[1;32m    765\u001b[0m \u001b[0;34m\u001b[0m\u001b[0m\n",
      "\u001b[0;32m~/anaconda3/envs/long_exposures/lib/python3.5/site-packages/PIL/ImageFile.py\u001b[0m in \u001b[0;36m_save\u001b[0;34m(im, fp, tile, bufsize)\u001b[0m\n\u001b[1;32m    526\u001b[0m                 \u001b[0ml\u001b[0m\u001b[0;34m,\u001b[0m \u001b[0ms\u001b[0m \u001b[0;34m=\u001b[0m \u001b[0me\u001b[0m\u001b[0;34m.\u001b[0m\u001b[0mencode_to_pyfd\u001b[0m\u001b[0;34m(\u001b[0m\u001b[0;34m)\u001b[0m\u001b[0;34m\u001b[0m\u001b[0m\n\u001b[1;32m    527\u001b[0m             \u001b[0;32melse\u001b[0m\u001b[0;34m:\u001b[0m\u001b[0;34m\u001b[0m\u001b[0m\n\u001b[0;32m--> 528\u001b[0;31m                 \u001b[0ms\u001b[0m \u001b[0;34m=\u001b[0m \u001b[0me\u001b[0m\u001b[0;34m.\u001b[0m\u001b[0mencode_to_file\u001b[0m\u001b[0;34m(\u001b[0m\u001b[0mfh\u001b[0m\u001b[0;34m,\u001b[0m \u001b[0mbufsize\u001b[0m\u001b[0;34m)\u001b[0m\u001b[0;34m\u001b[0m\u001b[0m\n\u001b[0m\u001b[1;32m    529\u001b[0m             \u001b[0;32mif\u001b[0m \u001b[0ms\u001b[0m \u001b[0;34m<\u001b[0m \u001b[0;36m0\u001b[0m\u001b[0;34m:\u001b[0m\u001b[0;34m\u001b[0m\u001b[0m\n\u001b[1;32m    530\u001b[0m                 \u001b[0;32mraise\u001b[0m \u001b[0mOSError\u001b[0m\u001b[0;34m(\u001b[0m\u001b[0;34m\"encoder error %d when writing image file\"\u001b[0m \u001b[0;34m%\u001b[0m \u001b[0ms\u001b[0m\u001b[0;34m)\u001b[0m\u001b[0;34m\u001b[0m\u001b[0m\n",
      "\u001b[0;31mOSError\u001b[0m: [Errno 28] No space left on device"
     ]
    }
   ],
   "source": [
    "INPUT_DIR = '/Users/talat/Pictures/_Photos/Edited/'\n",
    "OUTPUT_DIR = '/Users/talat/Pictures/_Photos/Long Exposures/'\n",
    "\n",
    "sub_dir_list = ['2020-05-11 - YEG Balcony Night (TL) E', \n",
    "               '2020-05-11 - YEG Balcony Garden TomJerry 1 T6i (TL) E',\n",
    "               '2020-05-11 - YEG Balcony Garden Batman 6D (TL) E',\n",
    "               '2020-05-11 - YEG Balcony Garden Batman 2 T6i (TL) E',\n",
    "               '2020-05-11 - YEG Balcony Garden Batman 1 T6i (TL) E',\n",
    "               '2020-05-11 - YEG Balcony Garden Batman 1 6D (TL) E',\n",
    "               '2020-05-11 - YEG Balcony Garden (TL) E',\n",
    "               '2020-05-11 - YEG Balcony (TL) E']\n",
    "\n",
    "for sub_dir in sub_dir_list:\n",
    "    ip_dir = os.path.join(INPUT_DIR, sub_dir)\n",
    "    op_dir = os.path.join(OUTPUT_DIR, sub_dir)\n",
    "    num_pics = 10\n",
    "    \n",
    "    print(ip_dir, op_dir, num_pics)\n",
    "    \n",
    "    create_longexposures(ip_dir, op_dir, num_pics)"
   ]
  },
  {
   "cell_type": "code",
   "execution_count": null,
   "metadata": {},
   "outputs": [],
   "source": []
  }
 ],
 "metadata": {
  "kernelspec": {
   "display_name": "long_exposures",
   "language": "python",
   "name": "long_exposures"
  },
  "language_info": {
   "codemirror_mode": {
    "name": "ipython",
    "version": 3
   },
   "file_extension": ".py",
   "mimetype": "text/x-python",
   "name": "python",
   "nbconvert_exporter": "python",
   "pygments_lexer": "ipython3",
   "version": "3.5.5"
  }
 },
 "nbformat": 4,
 "nbformat_minor": 4
}
