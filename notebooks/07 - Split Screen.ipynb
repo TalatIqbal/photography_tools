{
 "cells": [
  {
   "cell_type": "code",
   "execution_count": 27,
   "metadata": {},
   "outputs": [],
   "source": [
    "import os, PIL\n",
    "import numpy as np\n",
    "from PIL import Image\n",
    "import datetime\n",
    "import time\n",
    "import traceback\n",
    "import ntpath\n",
    "\n",
    "import warnings\n",
    "warnings.filterwarnings(\"ignore\")"
   ]
  },
  {
   "cell_type": "code",
   "execution_count": 29,
   "metadata": {},
   "outputs": [],
   "source": [
    "def create_splitscreen_images(ip_dir1, ip_dir2, op_dir, percent_screen1, vertical=False):\n",
    "    \n",
    "    # Access all image files with .jpg extension in the input directory\n",
    "    image1_list = [os.path.join(ip_dir1,f) for f in os.listdir(ip_dir1) \n",
    "                if not f.startswith('.') and f.lower().endswith('.jpg')]\n",
    "    image1_list.sort()\n",
    "    image1_list_len=len(image1_list)\n",
    "    \n",
    "        # Access all image files with .jpg extension in the input directory\n",
    "    image2_list = [os.path.join(ip_dir2,f) for f in os.listdir(ip_dir2) \n",
    "                if not f.startswith('.') and f.lower().endswith('.jpg')]\n",
    "    image2_list.sort()\n",
    "    image2_list_len=len(image2_list)\n",
    "    print('Image count -> Dir 1=', image1_list_len,'Dir 2=', image2_list_len, end=' ')\n",
    "    \n",
    "    image_len = image1_list_len if image1_list_len < image2_list_len else image2_list_len\n",
    "    \n",
    "    w1,h1=Image.open(image1_list[0]).size\n",
    "    w2,h2=Image.open(image2_list[0]).size\n",
    "    \n",
    "    print('Resolutions - Image 1', w1, h1, 'Image 2', w2, h2)\n",
    "    w = int(w1/2)\n",
    "    \n",
    "    tic = datetime.datetime.now()\n",
    "    \n",
    "    for i in range(0,image_len):\n",
    "        \n",
    "        # Create a numpy array of floats to store the split values\n",
    "        arr=numpy.zeros((h1,w1,3),numpy.float)\n",
    "        \n",
    "        image1 = image1_list[i]\n",
    "        image2 = image2_list[i]\n",
    "                \n",
    "        image1_arr=numpy.array(Image.open(image1),dtype=numpy.float)\n",
    "        image2_arr=numpy.array(Image.open(image2),dtype=numpy.float)\n",
    "        \n",
    "        arr1 = image1_arr[:,0:w,:]\n",
    "        arr2 = image2_arr[:,w:,:]\n",
    "        \n",
    "        arr = np.concatenate((arr1,arr2), axis=1)\n",
    "        arr=numpy.array(numpy.round(arr),dtype=numpy.uint8)\n",
    "\n",
    "        op_file = os.path.join(op_dir, ntpath.basename(image1))\n",
    "        \n",
    "        out=Image.fromarray(arr,mode=\"RGB\")\n",
    "        out.save(op_file, format = 'JPEG', quality = 100,\n",
    "                 icc_profile = Image.open(image1).info.get('icc_profile',''))\n",
    "        \n",
    "        print('Processing Images ['+str(i)+'/'+str(image_len)+'] Elapsed Time:',str(datetime.datetime.now()-tic), end='\\r')"
   ]
  },
  {
   "cell_type": "code",
   "execution_count": 30,
   "metadata": {},
   "outputs": [
    {
     "name": "stdout",
     "output_type": "stream",
     "text": [
      "Image count -> Dir 1= 189 Dir 2= 180 Resolutions - Image 1 6000 4000 Image 2 6000 4000\n",
      "Processing Images [179/180] Elapsed Time: 0:00:02.433665\r"
     ]
    }
   ],
   "source": [
    "ip_dir1 = '/Users/talat/Pictures/_Photos/Edited/2021-06-14 - Icefield Parkway Peak (TL) 1MB WM RT E2 2/'\n",
    "ip_dir2 = '/Users/talat/Pictures/_Photos/Edited/2021-06-14 - Icefield Parkway Peak (TL) 1MB WM RT E2 LE/'\n",
    "\n",
    "op_dir = '/Users/talat/Pictures/_Photos/processing/2021-06-14 - Icefield Parkway Peak (TL) 1MB WM RT E2 Split'\n",
    "percent_screen1 = 50\n",
    "\n",
    "create_splitscreen_images(ip_dir1, ip_dir2, op_dir, percent_screen1)"
   ]
  }
 ],
 "metadata": {
  "kernelspec": {
   "display_name": "photos",
   "language": "python",
   "name": "photos"
  },
  "language_info": {
   "codemirror_mode": {
    "name": "ipython",
    "version": 3
   },
   "file_extension": ".py",
   "mimetype": "text/x-python",
   "name": "python",
   "nbconvert_exporter": "python",
   "pygments_lexer": "ipython3",
   "version": "3.7.10"
  }
 },
 "nbformat": 4,
 "nbformat_minor": 4
}
