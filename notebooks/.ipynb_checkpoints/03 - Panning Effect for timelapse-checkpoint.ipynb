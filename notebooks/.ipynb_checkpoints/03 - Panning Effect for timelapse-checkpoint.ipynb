{
 "cells": [
  {
   "cell_type": "code",
   "execution_count": 1,
   "metadata": {},
   "outputs": [],
   "source": [
    "import os, numpy, PIL\n",
    "from PIL import Image\n",
    "import datetime\n",
    "import time\n",
    "import cv2\n",
    "import os"
   ]
  },
  {
   "cell_type": "code",
   "execution_count": 2,
   "metadata": {},
   "outputs": [],
   "source": [
    "import warnings\n",
    "warnings.filterwarnings(\"ignore\")"
   ]
  },
  {
   "cell_type": "code",
   "execution_count": 17,
   "metadata": {},
   "outputs": [],
   "source": [
    "def create_video_panning (ip_dir, op_dir, op_resolution, frame_rate=24, ext='.jpg', panning_style='h'):\n",
    "    \n",
    "    # Get the list of images\n",
    "    images = [img for img in os.listdir(ip_dir) if img.endswith(ext)]\n",
    "    images.sort()\n",
    "    \n",
    "    total_frames = len(images)\n",
    "    \n",
    "    if (total_frames == 0):\n",
    "        print('No images found with extension ' + ext)\n",
    "        return\n",
    "    \n",
    "    # Get image parameters such as width and height\n",
    "    sample_image = os.path.join(ip_dir, images[0])\n",
    "    img_h, img_w = get_image_parameters(sample_image) # Assumes all images are of same resolution\n",
    "    \n",
    "    op_width, op_height = op_resolution\n",
    "    # Check the output_resolution\n",
    "    if (op_height <= 0):\n",
    "        op_height = img_h\n",
    "    if (op_width <= 0):\n",
    "        op_width = img_w\n",
    "        \n",
    "    op_resolution = (op_width, op_height)\n",
    "        \n",
    "    pixels_to_move_per_frame = get_horizontal_panning_parameters(img_w, total_frames, op_resolution)\n",
    "    \n",
    "    # print(img_h, img_w, pixels_to_move_per_frame, total_frames)\n",
    "    \n",
    "    \n",
    "    # Check the desired width and height of the output image for filename\n",
    "    width, height = op_resolution\n",
    "    splt = ip_dir.split('/')\n",
    "    sub_dir = splt[len(splt)-1]\n",
    "    op_file = os.path.join(op_dir, sub_dir+'_'+str(width)+'x'+str(height)+'.avi')\n",
    "    \n",
    "    print('Output Video: ', op_file, '\\n')\n",
    "\n",
    "    # Create a video object for the final output file\n",
    "    video = cv2.VideoWriter(op_file, 0, frame_rate, op_resolution)\n",
    "\n",
    "    temp_file = 'temp.jpg'\n",
    "\n",
    "    frame_count = 0\n",
    "    for image in images:\n",
    "\n",
    "        frame_count += 1\n",
    "        \n",
    "        image = os.path.join(ip_dir, image)\n",
    "        \n",
    "        if (panning_style == 'h'):\n",
    "            x_start, x_width, y_start, y_height = get_image_panning_parameters(img_h, img_w, frame_count, total_frames, op_resolution, pixels_to_move_per_frame)\n",
    "            \n",
    "        im = crop_image(image, x_start, x_width, y_start, y_height)\n",
    "        \n",
    "        # im = Image.open(image)\n",
    "        im_resized = im.resize(op_resolution, Image.ANTIALIAS)\n",
    "        im_resized.save(temp_file)\n",
    "\n",
    "        video.write(cv2.imread(temp_file))\n",
    "        \n",
    "        if (frame_count%10 == 0):\n",
    "            print('Frames ('+str(frame_count)+'/'+str(total_frames)+')', end='\\r')\n",
    "\n",
    "    os.remove(temp_file)\n",
    "\n",
    "    cv2.destroyAllWindows()\n",
    "    video.release()"
   ]
  },
  {
   "cell_type": "code",
   "execution_count": 13,
   "metadata": {},
   "outputs": [],
   "source": [
    "def get_image_parameters(ip_img):\n",
    "    \n",
    "    image_arr=numpy.array(Image.open(ip_img),dtype=numpy.uint8)\n",
    "    img_h, img_w, layers = image_arr.shape\n",
    "    \n",
    "    return img_h, img_w"
   ]
  },
  {
   "cell_type": "code",
   "execution_count": 12,
   "metadata": {},
   "outputs": [],
   "source": [
    "def get_horizontal_panning_parameters(img_w, total_frames, op_resolution):\n",
    "    \n",
    "    desired_h, desired_w = op_resolution\n",
    "    pixels_to_move_per_frame = (img_w-desired_w)/float(total_frames) \n",
    "    \n",
    "    return pixels_to_move_per_frame"
   ]
  },
  {
   "cell_type": "code",
   "execution_count": 11,
   "metadata": {},
   "outputs": [],
   "source": [
    "def get_image_panning_parameters(img_h, img_w, frame_count, total_frames, op_resolution, pixels_to_move_per_frame):\n",
    "    \n",
    "    desired_h, desired_w = op_resolution\n",
    "\n",
    "    # Width start and end will depend on frames to be moved \n",
    "    x_start = round((frame_count-1)*pixels_to_move_per_frame)\n",
    "    x_width = desired_w\n",
    "    \n",
    "    # height would remain the same\n",
    "    y_start = 0\n",
    "    y_height = img_h\n",
    "    \n",
    "    return int(x_start), int(x_width), int(y_start), int(y_height)"
   ]
  },
  {
   "cell_type": "code",
   "execution_count": 7,
   "metadata": {},
   "outputs": [],
   "source": [
    "def crop_image(ip_img, x_start, x_width, y_start, y_height):\n",
    "    \n",
    "    image_arr=numpy.array(Image.open(ip_img),dtype=numpy.uint8)\n",
    "    \n",
    "    crop_arr=image_arr[y_start:y_start+y_height, x_start:x_start+x_width, :]\n",
    "    \n",
    "    crop_image = Image.fromarray(crop_arr,mode=\"RGB\")\n",
    "    \n",
    "    return crop_image"
   ]
  },
  {
   "cell_type": "markdown",
   "metadata": {},
   "source": [
    "## Test function for cropping an image"
   ]
  },
  {
   "cell_type": "code",
   "execution_count": 16,
   "metadata": {},
   "outputs": [],
   "source": [
    "INPUT_DIR = '/Users/talat/Pictures/_Photos/longexp/'\n",
    "sub_dir = '2020-05-14 - YEG Balcony Turtle Garden (TL) E'\n",
    "\n",
    "ip_dir = os.path.join(INPUT_DIR, sub_dir)\n",
    "ip_file = os.path.join(ip_dir, 'IMG_3816.jpg')\n",
    "\n",
    "res_hd = (1920, 1080)\n",
    "res_4k = (3840, 2160)\n",
    "res = res_hd\n",
    "\n",
    "frame_rate = 24\n",
    "\n",
    "x_width, y_height = res\n",
    "\n",
    "x_start = 0\n",
    "y_start = 0\n",
    "\n",
    "\n",
    "crop_img = crop_image(ip_file, x_start, x_width, y_height, x_width)\n",
    "crop_img.save(\"Average.png\")\n",
    "crop_img.show()\n",
    "\n",
    "# cv2.imshow(\"cropped\", crop_img)\n",
    "\n",
    "#crop_img.save('temp.jpg', format = 'JPEG', quality = 100,\n",
    "#                     icc_profile = Image.open(ip_file).info.get('icc_profile',''))"
   ]
  },
  {
   "cell_type": "markdown",
   "metadata": {},
   "source": [
    "## Test function to check panning for a single input directory"
   ]
  },
  {
   "cell_type": "code",
   "execution_count": 19,
   "metadata": {},
   "outputs": [
    {
     "name": "stdout",
     "output_type": "stream",
     "text": [
      "Output Video:  /Users/talat/Pictures/_Photos/Video/2020-05-14 - YEG Balcony Turtle Garden (TL) E_1920x4000.avi \n",
      "\n"
     ]
    },
    {
     "ename": "TypeError",
     "evalue": "int() argument must be a string, a bytes-like object or a number, not 'JpegImageFile'",
     "output_type": "error",
     "traceback": [
      "\u001b[0;31m---------------------------------------------------------------------------\u001b[0m",
      "\u001b[0;31mTypeError\u001b[0m                                 Traceback (most recent call last)",
      "\u001b[0;32m<ipython-input-19-bdca1ccb49c3>\u001b[0m in \u001b[0;36m<module>\u001b[0;34m\u001b[0m\n\u001b[1;32m     17\u001b[0m \u001b[0;34m\u001b[0m\u001b[0m\n\u001b[1;32m     18\u001b[0m \u001b[0;34m\u001b[0m\u001b[0m\n\u001b[0;32m---> 19\u001b[0;31m \u001b[0mcreate_video_panning\u001b[0m \u001b[0;34m(\u001b[0m\u001b[0mip_dir\u001b[0m\u001b[0;34m,\u001b[0m \u001b[0mop_dir\u001b[0m\u001b[0;34m,\u001b[0m \u001b[0mres\u001b[0m\u001b[0;34m,\u001b[0m \u001b[0mframe_rate\u001b[0m\u001b[0;34m,\u001b[0m \u001b[0mext\u001b[0m\u001b[0;34m,\u001b[0m \u001b[0mpanning_style\u001b[0m\u001b[0;34m)\u001b[0m\u001b[0;34m\u001b[0m\u001b[0m\n\u001b[0m",
      "\u001b[0;32m<ipython-input-17-88b9a6339336>\u001b[0m in \u001b[0;36mcreate_video_panning\u001b[0;34m(ip_dir, op_dir, op_resolution, frame_rate, ext, panning_style)\u001b[0m\n\u001b[1;32m     52\u001b[0m             \u001b[0mx_start\u001b[0m\u001b[0;34m,\u001b[0m \u001b[0mx_width\u001b[0m\u001b[0;34m,\u001b[0m \u001b[0my_start\u001b[0m\u001b[0;34m,\u001b[0m \u001b[0my_height\u001b[0m \u001b[0;34m=\u001b[0m \u001b[0mget_image_panning_parameters\u001b[0m\u001b[0;34m(\u001b[0m\u001b[0mimg_h\u001b[0m\u001b[0;34m,\u001b[0m \u001b[0mimg_w\u001b[0m\u001b[0;34m,\u001b[0m \u001b[0mframe_count\u001b[0m\u001b[0;34m,\u001b[0m \u001b[0mtotal_frames\u001b[0m\u001b[0;34m,\u001b[0m \u001b[0mop_resolution\u001b[0m\u001b[0;34m,\u001b[0m \u001b[0mpixels_to_move_per_frame\u001b[0m\u001b[0;34m)\u001b[0m\u001b[0;34m\u001b[0m\u001b[0m\n\u001b[1;32m     53\u001b[0m \u001b[0;34m\u001b[0m\u001b[0m\n\u001b[0;32m---> 54\u001b[0;31m         \u001b[0mim\u001b[0m \u001b[0;34m=\u001b[0m \u001b[0mcrop_image\u001b[0m\u001b[0;34m(\u001b[0m\u001b[0mimage\u001b[0m\u001b[0;34m,\u001b[0m \u001b[0mx_start\u001b[0m\u001b[0;34m,\u001b[0m \u001b[0mx_width\u001b[0m\u001b[0;34m,\u001b[0m \u001b[0my_start\u001b[0m\u001b[0;34m,\u001b[0m \u001b[0my_height\u001b[0m\u001b[0;34m)\u001b[0m\u001b[0;34m\u001b[0m\u001b[0m\n\u001b[0m\u001b[1;32m     55\u001b[0m \u001b[0;34m\u001b[0m\u001b[0m\n\u001b[1;32m     56\u001b[0m         \u001b[0;31m# im = Image.open(image)\u001b[0m\u001b[0;34m\u001b[0m\u001b[0;34m\u001b[0m\u001b[0m\n",
      "\u001b[0;32m<ipython-input-7-af765557b365>\u001b[0m in \u001b[0;36mcrop_image\u001b[0;34m(ip_img, x_start, x_width, y_start, y_height)\u001b[0m\n\u001b[1;32m      1\u001b[0m \u001b[0;32mdef\u001b[0m \u001b[0mcrop_image\u001b[0m\u001b[0;34m(\u001b[0m\u001b[0mip_img\u001b[0m\u001b[0;34m,\u001b[0m \u001b[0mx_start\u001b[0m\u001b[0;34m,\u001b[0m \u001b[0mx_width\u001b[0m\u001b[0;34m,\u001b[0m \u001b[0my_start\u001b[0m\u001b[0;34m,\u001b[0m \u001b[0my_height\u001b[0m\u001b[0;34m)\u001b[0m\u001b[0;34m:\u001b[0m\u001b[0;34m\u001b[0m\u001b[0m\n\u001b[1;32m      2\u001b[0m \u001b[0;34m\u001b[0m\u001b[0m\n\u001b[0;32m----> 3\u001b[0;31m     \u001b[0mimage_arr\u001b[0m\u001b[0;34m=\u001b[0m\u001b[0mnumpy\u001b[0m\u001b[0;34m.\u001b[0m\u001b[0marray\u001b[0m\u001b[0;34m(\u001b[0m\u001b[0mImage\u001b[0m\u001b[0;34m.\u001b[0m\u001b[0mopen\u001b[0m\u001b[0;34m(\u001b[0m\u001b[0mip_img\u001b[0m\u001b[0;34m)\u001b[0m\u001b[0;34m,\u001b[0m\u001b[0mdtype\u001b[0m\u001b[0;34m=\u001b[0m\u001b[0mnumpy\u001b[0m\u001b[0;34m.\u001b[0m\u001b[0muint8\u001b[0m\u001b[0;34m)\u001b[0m\u001b[0;34m\u001b[0m\u001b[0m\n\u001b[0m\u001b[1;32m      4\u001b[0m \u001b[0;34m\u001b[0m\u001b[0m\n\u001b[1;32m      5\u001b[0m     \u001b[0mcrop_arr\u001b[0m\u001b[0;34m=\u001b[0m\u001b[0mimage_arr\u001b[0m\u001b[0;34m[\u001b[0m\u001b[0my_start\u001b[0m\u001b[0;34m:\u001b[0m\u001b[0my_start\u001b[0m\u001b[0;34m+\u001b[0m\u001b[0my_height\u001b[0m\u001b[0;34m,\u001b[0m \u001b[0mx_start\u001b[0m\u001b[0;34m:\u001b[0m\u001b[0mx_start\u001b[0m\u001b[0;34m+\u001b[0m\u001b[0mx_width\u001b[0m\u001b[0;34m,\u001b[0m \u001b[0;34m:\u001b[0m\u001b[0;34m]\u001b[0m\u001b[0;34m\u001b[0m\u001b[0m\n",
      "\u001b[0;31mTypeError\u001b[0m: int() argument must be a string, a bytes-like object or a number, not 'JpegImageFile'"
     ]
    }
   ],
   "source": [
    "INPUT_DIR = '/Users/talat/Pictures/_Photos/longexp/'\n",
    "sub_dir = '2020-05-14 - YEG Balcony Turtle Garden (TL) E'\n",
    "\n",
    "ip_dir = os.path.join(INPUT_DIR, sub_dir)\n",
    "OUTPUT_DIR = '/Users/talat/Pictures/_Photos/Video/'\n",
    "\n",
    "res_hd = (1920, 1080)\n",
    "res_4k = (3840, 2160)\n",
    "res_hor_panning_portrait = (1920, 0)\n",
    "res = res_hor_panning_portrait\n",
    "\n",
    "frame_rate = 24\n",
    "ext = '.jpg'\n",
    "panning_style = 'h'\n",
    "\n",
    "op_dir = OUTPUT_DIR\n",
    "\n",
    "\n",
    "create_video_panning (ip_dir, op_dir, res, frame_rate, ext, panning_style)"
   ]
  },
  {
   "cell_type": "code",
   "execution_count": null,
   "metadata": {},
   "outputs": [],
   "source": []
  },
  {
   "cell_type": "markdown",
   "metadata": {},
   "source": [
    "# Final call"
   ]
  },
  {
   "cell_type": "code",
   "execution_count": null,
   "metadata": {},
   "outputs": [],
   "source": [
    "INPUT_DIR = '/Users/talat/Pictures/_Photos/longexp/'\n",
    "OUTPUT_DIR = '/Users/talat/Pictures/_Photos/Video/'\n",
    "\n",
    "# resolution = (width, height)\n",
    "res_hd = (1920, 1080)\n",
    "res_4k = (3840, 2160)\n",
    "res_hor_panning_portrait = (1920, 0)\n",
    "res = res_hd\n",
    "\n",
    "frame_rate = 24\n",
    "ext = '.jpg'\n",
    "\n",
    "sub_dir_list = [f for f in os.listdir(INPUT_DIR) if os.path.isdir(os.path.join(INPUT_DIR,f))]\n",
    "sub_dir_list.sort()\n",
    "\n",
    "for sub_dir in sub_dir_list:\n",
    "    \n",
    "    ip_dir = os.path.join(INPUT_DIR, sub_dir)\n",
    "    op_dir = OUTPUT_DIR\n",
    "    \n",
    "    print(sub_dir, end=' : ')\n",
    "    \n",
    "    crop_image()\n",
    "    # create_video(ip_dir, op_dir, res, frame_rate, ext)"
   ]
  },
  {
   "cell_type": "code",
   "execution_count": 20,
   "metadata": {},
   "outputs": [
    {
     "name": "stdout",
     "output_type": "stream",
     "text": []
    }
   ],
   "source": [
    "for i in range(0,100):\n",
    "    print(i, end='\\r')"
   ]
  },
  {
   "cell_type": "code",
   "execution_count": null,
   "metadata": {},
   "outputs": [],
   "source": []
  }
 ],
 "metadata": {
  "kernelspec": {
   "display_name": "long_exposures",
   "language": "python",
   "name": "long_exposures"
  },
  "language_info": {
   "codemirror_mode": {
    "name": "ipython",
    "version": 3
   },
   "file_extension": ".py",
   "mimetype": "text/x-python",
   "name": "python",
   "nbconvert_exporter": "python",
   "pygments_lexer": "ipython3",
   "version": "3.5.5"
  }
 },
 "nbformat": 4,
 "nbformat_minor": 2
}
