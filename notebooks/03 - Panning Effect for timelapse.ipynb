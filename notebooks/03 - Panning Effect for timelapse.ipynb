{
 "cells": [
  {
   "cell_type": "code",
   "execution_count": 1,
   "metadata": {},
   "outputs": [],
   "source": [
    "import os, numpy, PIL\n",
    "from PIL import Image\n",
    "import datetime\n",
    "import time\n",
    "import cv2\n",
    "import os"
   ]
  },
  {
   "cell_type": "code",
   "execution_count": 2,
   "metadata": {},
   "outputs": [],
   "source": [
    "import warnings\n",
    "warnings.filterwarnings(\"ignore\")"
   ]
  },
  {
   "cell_type": "code",
   "execution_count": 64,
   "metadata": {},
   "outputs": [],
   "source": [
    "def create_video_panning (ip_dir, op_dir, op_resolution, frame_rate=24, ext='.jpg', \\\n",
    "                          panning_style='h', aspect_ratio=(2, 3), vid_ext='.avi'):\n",
    "    \n",
    "    # Get the list of images\n",
    "    images = [img for img in os.listdir(ip_dir) if img.endswith(ext)]\n",
    "    images.sort()\n",
    "    \n",
    "    total_frames = len(images)\n",
    "    \n",
    "    if (total_frames == 0):\n",
    "        print('No images found with extension ' + ext)\n",
    "        return\n",
    "    \n",
    "    # Get image parameters such as width and height\n",
    "    sample_image = os.path.join(ip_dir, images[0])\n",
    "    img_h, img_w = get_image_parameters(sample_image) # Assumes all images are of same resolution\n",
    "    \n",
    "    op_width, op_height = op_resolution\n",
    "    # Check the output_resolution\n",
    "    if (op_height <= 0):\n",
    "        op_height = img_h\n",
    "    if (op_width <= 0):\n",
    "        op_width = img_w\n",
    "        \n",
    "    op_resolution = (op_width, op_height)\n",
    "        \n",
    "    pixels_to_move_per_frame = get_horizontal_panning_parameters(img_w, total_frames, op_resolution)\n",
    "    \n",
    "    print(img_h, img_w, pixels_to_move_per_frame, total_frames, op_resolution)\n",
    "    \n",
    "    #Aspect ratio\n",
    "    aspect_w, aspect_h = aspect_ratio\n",
    "    \n",
    "    \n",
    "    # Check the desired width and height of the output image for filename\n",
    "    width, height = op_resolution\n",
    "    splt = ip_dir.split('/')\n",
    "    sub_dir = splt[len(splt)-1]\n",
    "    op_file = os.path.join(op_dir, sub_dir+'_'+str(width)+'x'+str(height)+vid_ext)\n",
    "    \n",
    "    print('Output Video: ', op_file, '\\n')\n",
    "\n",
    "    # Create a video object for the final output file\n",
    "    codec = 'mp4v'\n",
    "    fourcc = cv2.VideoWriter_fourcc(*codec)\n",
    "    video = cv2.VideoWriter(op_file, fourcc, frame_rate, op_resolution, True)\n",
    "\n",
    "    temp_file = 'temp.jpg'\n",
    "\n",
    "    frame_count = 0\n",
    "    for image in images:\n",
    "\n",
    "        frame_count += 1\n",
    "        \n",
    "        image = os.path.join(ip_dir, image)\n",
    "\n",
    "        \n",
    "        if (panning_style == 'h'):\n",
    "            x_start, x_width, y_start, y_height = get_horizontal_image_panning_parameters( \\\n",
    "                    img_h, img_w, frame_count, total_frames, op_resolution, pixels_to_move_per_frame)\n",
    "#        print('Op resolution after for ', op_resolution)\n",
    "        \n",
    "#        print('image dimensions', x_start, x_width, y_start, y_height)\n",
    "        im = crop_image(image, x_start, x_width, y_start, y_height)\n",
    "        \n",
    "        if ((aspect_w>0) and (aspect_h>0)):\n",
    "#            print(aspect_ratio, x_width, y_height, panning_style)\n",
    "            op_resolution = get_dimensions_aspect_ratio(aspect_ratio, x_width, y_height, panning_style)\n",
    "        \n",
    "        print(op_resolution, end='\\r')\n",
    "        # im = Image.open(image)\n",
    "        im_resized = im.resize(op_resolution, Image.ANTIALIAS)\n",
    "        im_resized.save(temp_file)\n",
    "\n",
    "        video.write(cv2.imread(temp_file))\n",
    "        \n",
    "        print('Frames ('+str(frame_count)+'/'+str(total_frames)+')', end='\\r')\n",
    "\n",
    "    os.remove(temp_file)\n",
    "\n",
    "    cv2.destroyAllWindows()\n",
    "    video.release()"
   ]
  },
  {
   "cell_type": "code",
   "execution_count": 63,
   "metadata": {},
   "outputs": [],
   "source": [
    "def get_dimensions_aspect_ratio(aspect_ratio, x_width, y_height, panning_style):\n",
    "    aspect_w, aspect_h = aspect_ratio\n",
    "    \n",
    "    # If it is a horizontal panning, the width is not changed\n",
    "    if (panning_style == 'h'):\n",
    "        # Check if aspect ratio of x_width:y_height is greater than w:h, change the y_height\n",
    "        if (aspect_w < aspect_h):\n",
    "            if ((float(x_width)/y_height) < (float(aspect_w)/aspect_h)):\n",
    "                y_height = int(round(float(aspect_h)/aspect_w * x_width))\n",
    "            \n",
    "    return x_width, y_height"
   ]
  },
  {
   "cell_type": "code",
   "execution_count": 21,
   "metadata": {},
   "outputs": [
    {
     "name": "stdout",
     "output_type": "stream",
     "text": [
      "1920 2880.0\n"
     ]
    }
   ],
   "source": [
    "t_w, t_h = get_dimensions_aspect_ratio((2,3), 1920, 4000, 'h')\n",
    "\n",
    "print(t_w, t_h)"
   ]
  },
  {
   "cell_type": "code",
   "execution_count": 4,
   "metadata": {},
   "outputs": [],
   "source": [
    "def get_image_parameters(ip_img):\n",
    "    \n",
    "    image_arr=numpy.array(Image.open(ip_img),dtype=numpy.uint8)\n",
    "    img_h, img_w, layers = image_arr.shape\n",
    "    \n",
    "    return img_h, img_w"
   ]
  },
  {
   "cell_type": "code",
   "execution_count": 5,
   "metadata": {},
   "outputs": [],
   "source": [
    "def get_horizontal_panning_parameters(img_w, total_frames, op_resolution):\n",
    "    \n",
    "    desired_w, desired_h = op_resolution\n",
    "    pixels_to_move_per_frame = (img_w-desired_w)/float(total_frames) \n",
    "    \n",
    "    return pixels_to_move_per_frame"
   ]
  },
  {
   "cell_type": "code",
   "execution_count": 42,
   "metadata": {},
   "outputs": [],
   "source": [
    "def get_horizontal_image_panning_parameters(img_h, img_w, frame_count, total_frames, op_resolution, pixels_to_move_per_frame):\n",
    "    \n",
    "    desired_w, desired_h = op_resolution\n",
    "\n",
    "    # Width start and end will depend on frames to be moved \n",
    "    x_start = round((frame_count-1)*pixels_to_move_per_frame)\n",
    "    x_width = desired_w\n",
    "    \n",
    "    # height would remain the same\n",
    "    y_start = 0\n",
    "    y_height = img_h\n",
    "    \n",
    "    return int(x_start), int(x_width), int(y_start), int(y_height)"
   ]
  },
  {
   "cell_type": "code",
   "execution_count": 7,
   "metadata": {},
   "outputs": [],
   "source": [
    "def crop_image(ip_img, x_start, x_width, y_start, y_height):\n",
    "    \n",
    "    image_arr=numpy.array(Image.open(ip_img),dtype=numpy.uint8)\n",
    "    \n",
    "    crop_arr=image_arr[y_start:y_start+y_height, x_start:x_start+x_width, :]\n",
    "    \n",
    "    crop_image = Image.fromarray(crop_arr,mode=\"RGB\")\n",
    "    \n",
    "    return crop_image"
   ]
  },
  {
   "cell_type": "markdown",
   "metadata": {},
   "source": [
    "## Test function for cropping an image"
   ]
  },
  {
   "cell_type": "code",
   "execution_count": 16,
   "metadata": {},
   "outputs": [],
   "source": [
    "INPUT_DIR = '/Users/talat/Pictures/_Photos/longexp/'\n",
    "sub_dir = '2020-05-14 - YEG Balcony Turtle Garden (TL) E'\n",
    "\n",
    "ip_dir = os.path.join(INPUT_DIR, sub_dir)\n",
    "ip_file = os.path.join(ip_dir, 'IMG_3816.jpg')\n",
    "\n",
    "res_hd = (1920, 1080)\n",
    "res_4k = (3840, 2160)\n",
    "res = res_hd\n",
    "\n",
    "frame_rate = 24\n",
    "\n",
    "x_width, y_height = res\n",
    "\n",
    "x_start = 0\n",
    "y_start = 0\n",
    "\n",
    "\n",
    "crop_img = crop_image(ip_file, x_start, x_width, y_height, x_width)\n",
    "crop_img.save(\"Average.png\")\n",
    "crop_img.show()\n",
    "\n",
    "# cv2.imshow(\"cropped\", crop_img)\n",
    "\n",
    "#crop_img.save('temp.jpg', format = 'JPEG', quality = 100,\n",
    "#                     icc_profile = Image.open(ip_file).info.get('icc_profile',''))"
   ]
  },
  {
   "cell_type": "markdown",
   "metadata": {},
   "source": [
    "## Test function to check panning for a single input directory"
   ]
  },
  {
   "cell_type": "code",
   "execution_count": 66,
   "metadata": {
    "scrolled": false
   },
   "outputs": [
    {
     "name": "stdout",
     "output_type": "stream",
     "text": [
      "4000 6000 8.333333333333334 240 (3000, 4000)\n",
      "Output Video:  /Users/talat/Pictures/_Photos/Video/2020-05-14 - YEG Balcony Turtle Garden (TL) E_3000x4000.mp4 \n",
      "\n",
      "Frames (240/240)\r"
     ]
    }
   ],
   "source": [
    "INPUT_DIR = '/Users/talat/Pictures/_Photos/longexp/'\n",
    "sub_dir = '2020-05-14 - YEG Balcony Turtle Garden (TL) E'\n",
    "\n",
    "ip_dir = os.path.join(INPUT_DIR, sub_dir)\n",
    "OUTPUT_DIR = '/Users/talat/Pictures/_Photos/Video/'\n",
    "\n",
    "res_hd = (1920, 1080)\n",
    "res_4k = (3840, 2160)\n",
    "res_hor_panning_portrait = (3000, 0)\n",
    "res = res_hor_panning_portrait\n",
    "\n",
    "frame_rate = 24\n",
    "ext = '.jpg'\n",
    "panning_style = 'h'\n",
    "aspect_ratio=(2, 3)\n",
    "vid_ext = '.mp4'\n",
    "\n",
    "op_dir = OUTPUT_DIR\n",
    "\n",
    "create_video_panning (ip_dir, op_dir, res, frame_rate, ext, panning_style, aspect_ratio, vid_ext)"
   ]
  },
  {
   "cell_type": "markdown",
   "metadata": {},
   "source": [
    "## Test function to apply panning for all subdirectiories within a directory"
   ]
  },
  {
   "cell_type": "code",
   "execution_count": 68,
   "metadata": {},
   "outputs": [
    {
     "name": "stdout",
     "output_type": "stream",
     "text": [
      "2020-05-14 - YEG Balcony Turtle Garden (TL) E : 4000 6000 8.333333333333334 240 (3000, 4000)\n",
      "Output Video:  /Users/talat/Pictures/_Photos/Video/2020-05-14 - YEG Balcony Turtle Garden (TL) E_3000x4000.mp4 \n",
      "\n",
      "2020-05-14 - YEG Balcony Turtle Garden (TL) E copy : 4000 6000 3.3003300330033003 606 (3000, 4000)\n",
      "Output Video:  /Users/talat/Pictures/_Photos/Video/2020-05-14 - YEG Balcony Turtle Garden (TL) E copy_3000x4000.mp4 \n",
      "\n",
      "Frames (606/606)\r"
     ]
    }
   ],
   "source": [
    "INPUT_DIR = '/Users/talat/Pictures/_Photos/longexp/'\n",
    "OUTPUT_DIR = '/Users/talat/Pictures/_Photos/Video/'\n",
    "\n",
    "# resolution = (width, height)\n",
    "res_hd = (1920, 1080)\n",
    "res_4k = (3840, 2160)\n",
    "res_hor_panning_portrait = (3000, 0)\n",
    "res = res_hor_panning_portrait\n",
    "\n",
    "frame_rate = 24\n",
    "ext = '.jpg'\n",
    "panning_style = 'h'\n",
    "aspect_ratio=(2, 3)\n",
    "vid_ext = '.mp4'\n",
    "\n",
    "sub_dir_list = [f for f in os.listdir(INPUT_DIR) if os.path.isdir(os.path.join(INPUT_DIR,f))]\n",
    "sub_dir_list.sort()\n",
    "\n",
    "for sub_dir in sub_dir_list:\n",
    "    \n",
    "    ip_dir = os.path.join(INPUT_DIR, sub_dir)\n",
    "    op_dir = OUTPUT_DIR\n",
    "    \n",
    "    print(sub_dir, end=' : ')\n",
    "    \n",
    "    create_video_panning (ip_dir, op_dir, res, frame_rate, ext, panning_style, aspect_ratio, vid_ext)\n",
    "    # create_video(ip_dir, op_dir, res, frame_rate, ext)"
   ]
  },
  {
   "cell_type": "code",
   "execution_count": null,
   "metadata": {},
   "outputs": [],
   "source": []
  }
 ],
 "metadata": {
  "kernelspec": {
   "display_name": "long_exposures",
   "language": "python",
   "name": "long_exposures"
  },
  "language_info": {
   "codemirror_mode": {
    "name": "ipython",
    "version": 3
   },
   "file_extension": ".py",
   "mimetype": "text/x-python",
   "name": "python",
   "nbconvert_exporter": "python",
   "pygments_lexer": "ipython3",
   "version": "3.5.5"
  }
 },
 "nbformat": 4,
 "nbformat_minor": 2
}
