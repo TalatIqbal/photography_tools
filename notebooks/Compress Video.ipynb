{
 "cells": [
  {
   "cell_type": "code",
   "execution_count": null,
   "id": "1ecf1520",
   "metadata": {},
   "outputs": [],
   "source": [
    "!pip "
   ]
  },
  {
   "cell_type": "code",
   "execution_count": 1,
   "id": "e6d1e3aa",
   "metadata": {},
   "outputs": [
    {
     "ename": "ModuleNotFoundError",
     "evalue": "No module named 'ffmpeg'",
     "output_type": "error",
     "traceback": [
      "\u001b[0;31m---------------------------------------------------------------------------\u001b[0m",
      "\u001b[0;31mModuleNotFoundError\u001b[0m                       Traceback (most recent call last)",
      "\u001b[0;32m<ipython-input-1-3bb902493459>\u001b[0m in \u001b[0;36m<module>\u001b[0;34m\u001b[0m\n\u001b[0;32m----> 1\u001b[0;31m \u001b[0;32mimport\u001b[0m \u001b[0mos\u001b[0m\u001b[0;34m,\u001b[0m \u001b[0mffmpeg\u001b[0m\u001b[0;34m\u001b[0m\u001b[0;34m\u001b[0m\u001b[0m\n\u001b[0m",
      "\u001b[0;31mModuleNotFoundError\u001b[0m: No module named 'ffmpeg'"
     ]
    }
   ],
   "source": [
    "import os, ffmpeg"
   ]
  },
  {
   "cell_type": "code",
   "execution_count": 2,
   "id": "4609d810",
   "metadata": {},
   "outputs": [],
   "source": [
    "\n",
    "def compress_video(video_full_path, output_file_name, target_size):\n",
    "    # Reference: https://en.wikipedia.org/wiki/Bit_rate#Encoding_bit_rate\n",
    "    min_audio_bitrate = 32000\n",
    "    max_audio_bitrate = 256000\n",
    "\n",
    "    probe = ffmpeg.probe(video_full_path)\n",
    "    # Video duration, in s.\n",
    "    duration = float(probe['format']['duration'])\n",
    "    # Audio bitrate, in bps.\n",
    "    audio_bitrate = float(next((s for s in probe['streams'] if s['codec_type'] == 'audio'), None)['bit_rate'])\n",
    "    # Target total bitrate, in bps.\n",
    "    target_total_bitrate = (target_size * 1024 * 8) / (1.073741824 * duration)\n",
    "\n",
    "    # Target audio bitrate, in bps\n",
    "    if 10 * audio_bitrate > target_total_bitrate:\n",
    "        audio_bitrate = target_total_bitrate / 10\n",
    "        if audio_bitrate < min_audio_bitrate < target_total_bitrate:\n",
    "            audio_bitrate = min_audio_bitrate\n",
    "        elif audio_bitrate > max_audio_bitrate:\n",
    "            audio_bitrate = max_audio_bitrate\n",
    "    # Target video bitrate, in bps.\n",
    "    video_bitrate = target_total_bitrate - audio_bitrate\n",
    "\n",
    "    i = ffmpeg.input(video_full_path)\n",
    "    ffmpeg.output(i, os.devnull,\n",
    "                  **{'c:v': 'libx264', 'b:v': video_bitrate, 'pass': 1, 'f': 'mp4'}\n",
    "                  ).overwrite_output().run()\n",
    "    ffmpeg.output(i, output_file_name,\n",
    "                  **{'c:v': 'libx264', 'b:v': video_bitrate, 'pass': 2, 'c:a': 'aac', 'b:a': audio_bitrate}\n",
    "                  ).overwrite_output().run()\n",
    "\n"
   ]
  },
  {
   "cell_type": "code",
   "execution_count": null,
   "id": "f121706f",
   "metadata": {},
   "outputs": [],
   "source": [
    "compress_video('input.mp4', 'output.mp4', 50 * 1000)"
   ]
  }
 ],
 "metadata": {
  "kernelspec": {
   "display_name": "photos",
   "language": "python",
   "name": "photos"
  },
  "language_info": {
   "codemirror_mode": {
    "name": "ipython",
    "version": 3
   },
   "file_extension": ".py",
   "mimetype": "text/x-python",
   "name": "python",
   "nbconvert_exporter": "python",
   "pygments_lexer": "ipython3",
   "version": "3.7.10"
  }
 },
 "nbformat": 4,
 "nbformat_minor": 5
}
